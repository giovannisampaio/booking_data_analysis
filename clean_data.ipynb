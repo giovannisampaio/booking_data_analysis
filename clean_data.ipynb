{
 "cells": [
  {
   "cell_type": "markdown",
   "metadata": {},
   "source": [
    "## Data Understanding ## "
   ]
  },
  {
   "cell_type": "code",
   "execution_count": 1,
   "metadata": {},
   "outputs": [],
   "source": [
    "import pandas as pd\n",
    "import numpy as np\n",
    "import datetime as dt"
   ]
  },
  {
   "cell_type": "code",
   "execution_count": 2,
   "metadata": {},
   "outputs": [],
   "source": [
    "#import dataset\n",
    "\n",
    "df = pd.read_csv('./test_dataset.csv',parse_dates=[3,17,18], dayfirst=True)"
   ]
  },
  {
   "cell_type": "markdown",
   "metadata": {},
   "source": [
    "### **1. What are the features available in the dataset?** ###"
   ]
  },
  {
   "cell_type": "code",
   "execution_count": 3,
   "metadata": {},
   "outputs": [
    {
     "data": {
      "text/plain": [
       "(142608, 27)"
      ]
     },
     "execution_count": 3,
     "metadata": {},
     "output_type": "execute_result"
    }
   ],
   "source": [
    "df.shape"
   ]
  },
  {
   "cell_type": "code",
   "execution_count": 4,
   "metadata": {},
   "outputs": [
    {
     "name": "stdout",
     "output_type": "stream",
     "text": [
      "['Unnamed: 0' 'channel' 'cnt' 'date_time' 'hotel_cluster'\n",
      " 'hotel_continent' 'hotel_country' 'hotel_market' 'is_booking' 'is_mobile'\n",
      " 'is_package' 'month' 'orig_destination_distance' 'posa_continent'\n",
      " 'site_name' 'srch_adults_cnt' 'srch_children_cnt' 'srch_ci' 'srch_co'\n",
      " 'srch_destination_id' 'srch_destination_type_id' 'srch_rm_cnt' 'user_id'\n",
      " 'user_location_city' 'user_location_country' 'user_location_region'\n",
      " 'year']\n"
     ]
    }
   ],
   "source": [
    "print(df.columns.values)"
   ]
  },
  {
   "cell_type": "code",
   "execution_count": 5,
   "metadata": {},
   "outputs": [
    {
     "data": {
      "text/html": [
       "<div>\n",
       "<style scoped>\n",
       "    .dataframe tbody tr th:only-of-type {\n",
       "        vertical-align: middle;\n",
       "    }\n",
       "\n",
       "    .dataframe tbody tr th {\n",
       "        vertical-align: top;\n",
       "    }\n",
       "\n",
       "    .dataframe thead th {\n",
       "        text-align: right;\n",
       "    }\n",
       "</style>\n",
       "<table border=\"1\" class=\"dataframe\">\n",
       "  <thead>\n",
       "    <tr style=\"text-align: right;\">\n",
       "      <th></th>\n",
       "      <th>Unnamed: 0</th>\n",
       "      <th>channel</th>\n",
       "      <th>cnt</th>\n",
       "      <th>date_time</th>\n",
       "      <th>hotel_cluster</th>\n",
       "      <th>hotel_continent</th>\n",
       "      <th>hotel_country</th>\n",
       "      <th>hotel_market</th>\n",
       "      <th>is_booking</th>\n",
       "      <th>is_mobile</th>\n",
       "      <th>...</th>\n",
       "      <th>srch_ci</th>\n",
       "      <th>srch_co</th>\n",
       "      <th>srch_destination_id</th>\n",
       "      <th>srch_destination_type_id</th>\n",
       "      <th>srch_rm_cnt</th>\n",
       "      <th>user_id</th>\n",
       "      <th>user_location_city</th>\n",
       "      <th>user_location_country</th>\n",
       "      <th>user_location_region</th>\n",
       "      <th>year</th>\n",
       "    </tr>\n",
       "  </thead>\n",
       "  <tbody>\n",
       "    <tr>\n",
       "      <th>0</th>\n",
       "      <td>29</td>\n",
       "      <td>9</td>\n",
       "      <td>1</td>\n",
       "      <td>2013-09-27 17:36:00</td>\n",
       "      <td>68</td>\n",
       "      <td>6</td>\n",
       "      <td>68</td>\n",
       "      <td>275</td>\n",
       "      <td>1</td>\n",
       "      <td>0</td>\n",
       "      <td>...</td>\n",
       "      <td>2014-05-01</td>\n",
       "      <td>2014-05-04</td>\n",
       "      <td>8213</td>\n",
       "      <td>1</td>\n",
       "      <td>2</td>\n",
       "      <td>4539</td>\n",
       "      <td>19639</td>\n",
       "      <td>46</td>\n",
       "      <td>171</td>\n",
       "      <td>2013</td>\n",
       "    </tr>\n",
       "    <tr>\n",
       "      <th>1</th>\n",
       "      <td>30</td>\n",
       "      <td>5</td>\n",
       "      <td>1</td>\n",
       "      <td>2013-09-27 17:36:00</td>\n",
       "      <td>68</td>\n",
       "      <td>6</td>\n",
       "      <td>68</td>\n",
       "      <td>275</td>\n",
       "      <td>1</td>\n",
       "      <td>0</td>\n",
       "      <td>...</td>\n",
       "      <td>2014-05-01</td>\n",
       "      <td>2014-05-04</td>\n",
       "      <td>8213</td>\n",
       "      <td>1</td>\n",
       "      <td>1</td>\n",
       "      <td>4539</td>\n",
       "      <td>19639</td>\n",
       "      <td>46</td>\n",
       "      <td>171</td>\n",
       "      <td>2013</td>\n",
       "    </tr>\n",
       "    <tr>\n",
       "      <th>2</th>\n",
       "      <td>34</td>\n",
       "      <td>9</td>\n",
       "      <td>1</td>\n",
       "      <td>2013-11-17 08:32:00</td>\n",
       "      <td>82</td>\n",
       "      <td>6</td>\n",
       "      <td>107</td>\n",
       "      <td>186</td>\n",
       "      <td>1</td>\n",
       "      <td>0</td>\n",
       "      <td>...</td>\n",
       "      <td>2013-11-30</td>\n",
       "      <td>2013-12-01</td>\n",
       "      <td>8813</td>\n",
       "      <td>1</td>\n",
       "      <td>1</td>\n",
       "      <td>4539</td>\n",
       "      <td>43387</td>\n",
       "      <td>46</td>\n",
       "      <td>171</td>\n",
       "      <td>2013</td>\n",
       "    </tr>\n",
       "    <tr>\n",
       "      <th>3</th>\n",
       "      <td>40</td>\n",
       "      <td>9</td>\n",
       "      <td>2</td>\n",
       "      <td>2013-11-20 12:03:00</td>\n",
       "      <td>1</td>\n",
       "      <td>2</td>\n",
       "      <td>50</td>\n",
       "      <td>628</td>\n",
       "      <td>1</td>\n",
       "      <td>0</td>\n",
       "      <td>...</td>\n",
       "      <td>2014-07-31</td>\n",
       "      <td>2014-08-02</td>\n",
       "      <td>8250</td>\n",
       "      <td>1</td>\n",
       "      <td>1</td>\n",
       "      <td>4539</td>\n",
       "      <td>15334</td>\n",
       "      <td>46</td>\n",
       "      <td>171</td>\n",
       "      <td>2013</td>\n",
       "    </tr>\n",
       "    <tr>\n",
       "      <th>4</th>\n",
       "      <td>42</td>\n",
       "      <td>9</td>\n",
       "      <td>2</td>\n",
       "      <td>2013-11-21 11:15:00</td>\n",
       "      <td>91</td>\n",
       "      <td>2</td>\n",
       "      <td>50</td>\n",
       "      <td>1230</td>\n",
       "      <td>1</td>\n",
       "      <td>0</td>\n",
       "      <td>...</td>\n",
       "      <td>2014-08-19</td>\n",
       "      <td>2014-08-22</td>\n",
       "      <td>8279</td>\n",
       "      <td>1</td>\n",
       "      <td>1</td>\n",
       "      <td>4539</td>\n",
       "      <td>19639</td>\n",
       "      <td>46</td>\n",
       "      <td>171</td>\n",
       "      <td>2013</td>\n",
       "    </tr>\n",
       "  </tbody>\n",
       "</table>\n",
       "<p>5 rows × 27 columns</p>\n",
       "</div>"
      ],
      "text/plain": [
       "   Unnamed: 0  channel  cnt           date_time  hotel_cluster  \\\n",
       "0          29        9    1 2013-09-27 17:36:00             68   \n",
       "1          30        5    1 2013-09-27 17:36:00             68   \n",
       "2          34        9    1 2013-11-17 08:32:00             82   \n",
       "3          40        9    2 2013-11-20 12:03:00              1   \n",
       "4          42        9    2 2013-11-21 11:15:00             91   \n",
       "\n",
       "   hotel_continent  hotel_country  hotel_market  is_booking  is_mobile  ...  \\\n",
       "0                6             68           275           1          0  ...   \n",
       "1                6             68           275           1          0  ...   \n",
       "2                6            107           186           1          0  ...   \n",
       "3                2             50           628           1          0  ...   \n",
       "4                2             50          1230           1          0  ...   \n",
       "\n",
       "     srch_ci    srch_co  srch_destination_id  srch_destination_type_id  \\\n",
       "0 2014-05-01 2014-05-04                 8213                         1   \n",
       "1 2014-05-01 2014-05-04                 8213                         1   \n",
       "2 2013-11-30 2013-12-01                 8813                         1   \n",
       "3 2014-07-31 2014-08-02                 8250                         1   \n",
       "4 2014-08-19 2014-08-22                 8279                         1   \n",
       "\n",
       "   srch_rm_cnt  user_id  user_location_city user_location_country  \\\n",
       "0            2     4539               19639                    46   \n",
       "1            1     4539               19639                    46   \n",
       "2            1     4539               43387                    46   \n",
       "3            1     4539               15334                    46   \n",
       "4            1     4539               19639                    46   \n",
       "\n",
       "  user_location_region  year  \n",
       "0                  171  2013  \n",
       "1                  171  2013  \n",
       "2                  171  2013  \n",
       "3                  171  2013  \n",
       "4                  171  2013  \n",
       "\n",
       "[5 rows x 27 columns]"
      ]
     },
     "execution_count": 5,
     "metadata": {},
     "output_type": "execute_result"
    }
   ],
   "source": [
    "df.head()"
   ]
  },
  {
   "cell_type": "markdown",
   "metadata": {},
   "source": [
    "### **2. Which features are categorical?** ###"
   ]
  },
  {
   "cell_type": "markdown",
   "metadata": {},
   "source": [
    "**Categorical:**\n",
    "    'channel',\n",
    "    'cnt',\n",
    "    'hotel_cluster',\n",
    "    'hotel_continent',\n",
    "    'hotel_country',\n",
    "    'hotel_market',\n",
    "    'is_booking',\n",
    "    'is_mobile',\n",
    "    'is_package',\n",
    "    'month',\n",
    "    'posa_continent',\n",
    "    'site_name',\n",
    "    'srch_destination_id',\n",
    "    'srch_destination_type_id',\n",
    "    'user_id',\n",
    "    'user_location_city',\n",
    "    'user_location_country',\n",
    "    'user_location_region',\n",
    "    'year'"
   ]
  },
  {
   "cell_type": "markdown",
   "metadata": {},
   "source": [
    "### **3. Which features are numerical?** ###"
   ]
  },
  {
   "cell_type": "markdown",
   "metadata": {},
   "source": [
    "**Timeseries related:** 'date_time','srch_ci','srch_co' \n",
    "**Continuous:** 'orig_destination_distance', **Discrete:** 'srch_adults_cnt','srch_children_cnt','srch_rm_cnt'"
   ]
  },
  {
   "cell_type": "markdown",
   "metadata": {},
   "source": [
    "The first column which has no label is an unique id. It can be removed since it is not useful for analytics purposes."
   ]
  },
  {
   "cell_type": "code",
   "execution_count": 6,
   "metadata": {},
   "outputs": [
    {
     "data": {
      "text/plain": [
       "True"
      ]
     },
     "execution_count": 6,
     "metadata": {},
     "output_type": "execute_result"
    }
   ],
   "source": [
    "#test if the values on first column are all unique\n",
    "df.iloc[:,0].is_unique"
   ]
  },
  {
   "cell_type": "markdown",
   "metadata": {},
   "source": [
    "### **4. What are the data types for various features?** ###"
   ]
  },
  {
   "cell_type": "code",
   "execution_count": 7,
   "metadata": {},
   "outputs": [
    {
     "name": "stdout",
     "output_type": "stream",
     "text": [
      "<class 'pandas.core.frame.DataFrame'>\n",
      "RangeIndex: 142608 entries, 0 to 142607\n",
      "Data columns (total 27 columns):\n",
      " #   Column                     Non-Null Count   Dtype         \n",
      "---  ------                     --------------   -----         \n",
      " 0   Unnamed: 0                 142608 non-null  int64         \n",
      " 1   channel                    142608 non-null  int64         \n",
      " 2   cnt                        142608 non-null  int64         \n",
      " 3   date_time                  142608 non-null  datetime64[ns]\n",
      " 4   hotel_cluster              142608 non-null  int64         \n",
      " 5   hotel_continent            142608 non-null  int64         \n",
      " 6   hotel_country              142608 non-null  int64         \n",
      " 7   hotel_market               142608 non-null  int64         \n",
      " 8   is_booking                 142608 non-null  int64         \n",
      " 9   is_mobile                  142608 non-null  int64         \n",
      " 10  is_package                 142608 non-null  int64         \n",
      " 11  month                      142608 non-null  int64         \n",
      " 12  orig_destination_distance  92946 non-null   float64       \n",
      " 13  posa_continent             142608 non-null  int64         \n",
      " 14  site_name                  142608 non-null  int64         \n",
      " 15  srch_adults_cnt            142608 non-null  int64         \n",
      " 16  srch_children_cnt          142608 non-null  int64         \n",
      " 17  srch_ci                    142608 non-null  datetime64[ns]\n",
      " 18  srch_co                    142608 non-null  datetime64[ns]\n",
      " 19  srch_destination_id        142608 non-null  int64         \n",
      " 20  srch_destination_type_id   142608 non-null  int64         \n",
      " 21  srch_rm_cnt                142608 non-null  int64         \n",
      " 22  user_id                    142608 non-null  int64         \n",
      " 23  user_location_city         142608 non-null  int64         \n",
      " 24  user_location_country      142608 non-null  int64         \n",
      " 25  user_location_region       142608 non-null  int64         \n",
      " 26  year                       142608 non-null  int64         \n",
      "dtypes: datetime64[ns](3), float64(1), int64(23)\n",
      "memory usage: 29.4 MB\n"
     ]
    }
   ],
   "source": [
    "df.info()"
   ]
  },
  {
   "cell_type": "markdown",
   "metadata": {},
   "source": [
    "### **5. Which features contain blank, null or empty values?** ###"
   ]
  },
  {
   "cell_type": "markdown",
   "metadata": {},
   "source": [
    "Looking at df.info() we can see that 'orig_destination_distance' contains 92946 non null values of a total 142608 rows, so it cleary has NA or missing values."
   ]
  },
  {
   "cell_type": "markdown",
   "metadata": {},
   "source": [
    "### **6. How are the numerical features distributed?** ###"
   ]
  },
  {
   "cell_type": "code",
   "execution_count": 8,
   "metadata": {},
   "outputs": [
    {
     "data": {
      "text/html": [
       "<div>\n",
       "<style scoped>\n",
       "    .dataframe tbody tr th:only-of-type {\n",
       "        vertical-align: middle;\n",
       "    }\n",
       "\n",
       "    .dataframe tbody tr th {\n",
       "        vertical-align: top;\n",
       "    }\n",
       "\n",
       "    .dataframe thead th {\n",
       "        text-align: right;\n",
       "    }\n",
       "</style>\n",
       "<table border=\"1\" class=\"dataframe\">\n",
       "  <thead>\n",
       "    <tr style=\"text-align: right;\">\n",
       "      <th></th>\n",
       "      <th>cnt</th>\n",
       "      <th>srch_adults_cnt</th>\n",
       "      <th>srch_children_cnt</th>\n",
       "      <th>srch_rm_cnt</th>\n",
       "      <th>orig_destination_distance</th>\n",
       "    </tr>\n",
       "  </thead>\n",
       "  <tbody>\n",
       "    <tr>\n",
       "      <th>count</th>\n",
       "      <td>142608.000000</td>\n",
       "      <td>142608.000000</td>\n",
       "      <td>142608.000000</td>\n",
       "      <td>142608.000000</td>\n",
       "      <td>92946.000000</td>\n",
       "    </tr>\n",
       "    <tr>\n",
       "      <th>mean</th>\n",
       "      <td>1.016472</td>\n",
       "      <td>1.801168</td>\n",
       "      <td>0.272383</td>\n",
       "      <td>1.134635</td>\n",
       "      <td>1665.357641</td>\n",
       "    </tr>\n",
       "    <tr>\n",
       "      <th>std</th>\n",
       "      <td>0.146300</td>\n",
       "      <td>0.905180</td>\n",
       "      <td>0.611742</td>\n",
       "      <td>0.489406</td>\n",
       "      <td>2164.036305</td>\n",
       "    </tr>\n",
       "    <tr>\n",
       "      <th>min</th>\n",
       "      <td>1.000000</td>\n",
       "      <td>0.000000</td>\n",
       "      <td>0.000000</td>\n",
       "      <td>0.000000</td>\n",
       "      <td>0.005600</td>\n",
       "    </tr>\n",
       "    <tr>\n",
       "      <th>25%</th>\n",
       "      <td>1.000000</td>\n",
       "      <td>1.000000</td>\n",
       "      <td>0.000000</td>\n",
       "      <td>1.000000</td>\n",
       "      <td>211.053025</td>\n",
       "    </tr>\n",
       "    <tr>\n",
       "      <th>50%</th>\n",
       "      <td>1.000000</td>\n",
       "      <td>2.000000</td>\n",
       "      <td>0.000000</td>\n",
       "      <td>1.000000</td>\n",
       "      <td>793.243000</td>\n",
       "    </tr>\n",
       "    <tr>\n",
       "      <th>75%</th>\n",
       "      <td>1.000000</td>\n",
       "      <td>2.000000</td>\n",
       "      <td>0.000000</td>\n",
       "      <td>1.000000</td>\n",
       "      <td>2166.322250</td>\n",
       "    </tr>\n",
       "    <tr>\n",
       "      <th>max</th>\n",
       "      <td>10.000000</td>\n",
       "      <td>9.000000</td>\n",
       "      <td>9.000000</td>\n",
       "      <td>8.000000</td>\n",
       "      <td>11937.940200</td>\n",
       "    </tr>\n",
       "  </tbody>\n",
       "</table>\n",
       "</div>"
      ],
      "text/plain": [
       "                 cnt  srch_adults_cnt  srch_children_cnt    srch_rm_cnt  \\\n",
       "count  142608.000000    142608.000000      142608.000000  142608.000000   \n",
       "mean        1.016472         1.801168           0.272383       1.134635   \n",
       "std         0.146300         0.905180           0.611742       0.489406   \n",
       "min         1.000000         0.000000           0.000000       0.000000   \n",
       "25%         1.000000         1.000000           0.000000       1.000000   \n",
       "50%         1.000000         2.000000           0.000000       1.000000   \n",
       "75%         1.000000         2.000000           0.000000       1.000000   \n",
       "max        10.000000         9.000000           9.000000       8.000000   \n",
       "\n",
       "       orig_destination_distance  \n",
       "count               92946.000000  \n",
       "mean                 1665.357641  \n",
       "std                  2164.036305  \n",
       "min                     0.005600  \n",
       "25%                   211.053025  \n",
       "50%                   793.243000  \n",
       "75%                  2166.322250  \n",
       "max                 11937.940200  "
      ]
     },
     "execution_count": 8,
     "metadata": {},
     "output_type": "execute_result"
    }
   ],
   "source": [
    "df[['cnt','srch_adults_cnt','srch_children_cnt','srch_rm_cnt','orig_destination_distance',]].describe()"
   ]
  },
  {
   "cell_type": "markdown",
   "metadata": {},
   "source": [
    "**cnt:** at first we can imagine that cnt is the total number of people (adults and children) in the search/booking however a quick test shows this assumption is not true.\n",
    "\n",
    "Plotting a histogram for this feature shows that almost all records have value 1.\n",
    "\n",
    "Moreover, there a few outlier values as can be see below in the boxplot visualization.\n",
    "\n",
    "Having that said we may drop this feature."
   ]
  },
  {
   "cell_type": "code",
   "execution_count": 9,
   "metadata": {},
   "outputs": [
    {
     "data": {
      "text/plain": [
       "0         False\n",
       "1         False\n",
       "2         False\n",
       "3         False\n",
       "4         False\n",
       "          ...  \n",
       "142603     True\n",
       "142604     True\n",
       "142605    False\n",
       "142606    False\n",
       "142607     True\n",
       "Length: 142608, dtype: bool"
      ]
     },
     "execution_count": 9,
     "metadata": {},
     "output_type": "execute_result"
    }
   ],
   "source": [
    "df['cnt'] == df['srch_adults_cnt'] + df['srch_children_cnt']"
   ]
  },
  {
   "cell_type": "code",
   "execution_count": 10,
   "metadata": {},
   "outputs": [
    {
     "data": {
      "text/plain": [
       "<AxesSubplot:>"
      ]
     },
     "execution_count": 10,
     "metadata": {},
     "output_type": "execute_result"
    },
    {
     "data": {
      "image/png": "[encoded data removed]",
      "text/plain": [
       "<Figure size 432x432 with 1 Axes>"
      ]
     },
     "metadata": {
      "needs_background": "light"
     },
     "output_type": "display_data"
    }
   ],
   "source": [
    "df['cnt'].hist(figsize=(6,6), bins = 20)"
   ]
  },
  {
   "cell_type": "code",
   "execution_count": 11,
   "metadata": {},
   "outputs": [
    {
     "data": {
      "image/png": "[encoded data removed]",
      "text/plain": [
       "<Figure size 432x288 with 1 Axes>"
      ]
     },
     "metadata": {
      "needs_background": "light"
     },
     "output_type": "display_data"
    }
   ],
   "source": [
    "df.boxplot(column='cnt');"
   ]
  },
  {
   "cell_type": "markdown",
   "metadata": {},
   "source": [
    "**srch_rm_cnt**: this feature also has an unequal distribution, however assuming it stands for the number of rooms in the search/booking it is reasonable that almost all users would look for 1 room only.\n",
    "\n",
    "There are some outliers (7 records) where the room counter is 0 and other 99 records where room counter is 8.\n",
    "\n",
    "For the case of 0 rooms, at first it may seem unexpected to have a booking without a room, but it may be a case where an user can book a luggage storage locker or something similar.\n",
    "\n",
    "As for the outliers with  9 rooms, we decide to keep it since although it can impact some results of the analysis, it is still an reasonable event. \n",
    "\n",
    "Moreover, for an exponential distribution, the mean is not a good statistical measure to represent the feature, whereas the mode give us a much better insight about the population.\n",
    "\n",
    "For modeling purpose this feature might have to be normalized."
   ]
  },
  {
   "cell_type": "code",
   "execution_count": 12,
   "metadata": {},
   "outputs": [
    {
     "data": {
      "text/plain": [
       "<AxesSubplot:>"
      ]
     },
     "execution_count": 12,
     "metadata": {},
     "output_type": "execute_result"
    },
    {
     "data": {
      "image/png": "[encoded data removed]",
      "text/plain": [
       "<Figure size 432x432 with 1 Axes>"
      ]
     },
     "metadata": {
      "needs_background": "light"
     },
     "output_type": "display_data"
    }
   ],
   "source": [
    "df['srch_rm_cnt'].hist(figsize=(6,6), bins = 20)"
   ]
  },
  {
   "cell_type": "markdown",
   "metadata": {},
   "source": [
    "**srch_adults_cnt** and **srch_children_cnt**: the distribution follows a similar pattern where most records of bookings are for 1 or 2 adults and 0 children, with that maybe being an indicative of the demographics of those users.\n",
    "\n",
    "There are 259 records where there are 0 children and 0 adults associated with the search/booking, which seems odd at first. However, it is reasonable to have cases where rooms are booked in advance without indication of the number of people."
   ]
  },
  {
   "cell_type": "code",
   "execution_count": 13,
   "metadata": {},
   "outputs": [
    {
     "data": {
      "text/plain": [
       "<AxesSubplot:>"
      ]
     },
     "execution_count": 13,
     "metadata": {},
     "output_type": "execute_result"
    },
    {
     "data": {
      "image/png": "[encoded data removed]",
      "text/plain": [
       "<Figure size 432x432 with 1 Axes>"
      ]
     },
     "metadata": {
      "needs_background": "light"
     },
     "output_type": "display_data"
    }
   ],
   "source": [
    "df['srch_adults_cnt'].hist(figsize=(6,6), bins = 20)"
   ]
  },
  {
   "cell_type": "code",
   "execution_count": 14,
   "metadata": {},
   "outputs": [
    {
     "data": {
      "text/plain": [
       "<AxesSubplot:>"
      ]
     },
     "execution_count": 14,
     "metadata": {},
     "output_type": "execute_result"
    },
    {
     "data": {
      "image/png": "[encoded data removed]",
      "text/plain": [
       "<Figure size 432x432 with 1 Axes>"
      ]
     },
     "metadata": {
      "needs_background": "light"
     },
     "output_type": "display_data"
    }
   ],
   "source": [
    "df['srch_children_cnt'].hist(figsize=(6,6), bins = 20)"
   ]
  },
  {
   "cell_type": "code",
   "execution_count": 15,
   "metadata": {},
   "outputs": [
    {
     "data": {
      "text/plain": [
       "259"
      ]
     },
     "execution_count": 15,
     "metadata": {},
     "output_type": "execute_result"
    }
   ],
   "source": [
    "len(df[(df['srch_adults_cnt'] == 0) & (df['srch_children_cnt'] == 0)])"
   ]
  },
  {
   "cell_type": "markdown",
   "metadata": {},
   "source": [
    "**orig_destination_distance:**\n",
    "The distribution for this feature is reasonable, as most people travel to closer destinations since it is usually cheaper and easier.\n",
    "\n",
    "There are 49662 rows containg null values. It may have to be replaced since the number of rows that would be dropped is considerably high and since it can be correlated with location features to explain why a given user prefers one hotel over another. \n",
    "\n",
    "A simple solution could be to replace the null values by the average value, but we can risky damaging the consistency of the dataset, so it has to be evaluated if it is feasible or not."
   ]
  },
  {
   "cell_type": "code",
   "execution_count": 16,
   "metadata": {},
   "outputs": [
    {
     "data": {
      "text/plain": [
       "49662"
      ]
     },
     "execution_count": 16,
     "metadata": {},
     "output_type": "execute_result"
    }
   ],
   "source": [
    "len(df[df['orig_destination_distance'].isnull()])"
   ]
  },
  {
   "cell_type": "code",
   "execution_count": 17,
   "metadata": {},
   "outputs": [
    {
     "data": {
      "text/plain": [
       "<AxesSubplot:>"
      ]
     },
     "execution_count": 17,
     "metadata": {},
     "output_type": "execute_result"
    },
    {
     "data": {
      "image/png": "[encoded data removed]",
      "text/plain": [
       "<Figure size 432x432 with 1 Axes>"
      ]
     },
     "metadata": {
      "needs_background": "light"
     },
     "output_type": "display_data"
    }
   ],
   "source": [
    "df['orig_destination_distance'].hist(figsize=(6,6), bins = 20)"
   ]
  },
  {
   "cell_type": "code",
   "execution_count": 18,
   "metadata": {},
   "outputs": [
    {
     "data": {
      "text/html": [
       "<div>\n",
       "<style scoped>\n",
       "    .dataframe tbody tr th:only-of-type {\n",
       "        vertical-align: middle;\n",
       "    }\n",
       "\n",
       "    .dataframe tbody tr th {\n",
       "        vertical-align: top;\n",
       "    }\n",
       "\n",
       "    .dataframe thead th {\n",
       "        text-align: right;\n",
       "    }\n",
       "</style>\n",
       "<table border=\"1\" class=\"dataframe\">\n",
       "  <thead>\n",
       "    <tr style=\"text-align: right;\">\n",
       "      <th></th>\n",
       "      <th>date_time</th>\n",
       "      <th>srch_ci</th>\n",
       "      <th>srch_co</th>\n",
       "    </tr>\n",
       "  </thead>\n",
       "  <tbody>\n",
       "    <tr>\n",
       "      <th>count</th>\n",
       "      <td>142608</td>\n",
       "      <td>142608</td>\n",
       "      <td>142608</td>\n",
       "    </tr>\n",
       "    <tr>\n",
       "      <th>mean</th>\n",
       "      <td>2013-10-27 07:07:15.204068608</td>\n",
       "      <td>2013-11-27 21:30:29.687032064</td>\n",
       "      <td>2013-11-30 06:53:11.652701696</td>\n",
       "    </tr>\n",
       "    <tr>\n",
       "      <th>min</th>\n",
       "      <td>2013-09-01 00:11:00</td>\n",
       "      <td>2013-09-01 00:00:00</td>\n",
       "      <td>2013-09-02 00:00:00</td>\n",
       "    </tr>\n",
       "    <tr>\n",
       "      <th>25%</th>\n",
       "      <td>2013-09-27 07:14:15</td>\n",
       "      <td>2013-10-16 00:00:00</td>\n",
       "      <td>2013-10-18 00:00:00</td>\n",
       "    </tr>\n",
       "    <tr>\n",
       "      <th>50%</th>\n",
       "      <td>2013-10-24 18:26:00</td>\n",
       "      <td>2013-11-19 00:00:00</td>\n",
       "      <td>2013-11-22 00:00:00</td>\n",
       "    </tr>\n",
       "    <tr>\n",
       "      <th>75%</th>\n",
       "      <td>2013-11-25 11:13:00</td>\n",
       "      <td>2013-12-25 00:00:00</td>\n",
       "      <td>2013-12-28 00:00:00</td>\n",
       "    </tr>\n",
       "    <tr>\n",
       "      <th>max</th>\n",
       "      <td>2013-12-31 23:59:00</td>\n",
       "      <td>2015-03-27 00:00:00</td>\n",
       "      <td>2015-03-30 00:00:00</td>\n",
       "    </tr>\n",
       "  </tbody>\n",
       "</table>\n",
       "</div>"
      ],
      "text/plain": [
       "                           date_time                        srch_ci  \\\n",
       "count                         142608                         142608   \n",
       "mean   2013-10-27 07:07:15.204068608  2013-11-27 21:30:29.687032064   \n",
       "min              2013-09-01 00:11:00            2013-09-01 00:00:00   \n",
       "25%              2013-09-27 07:14:15            2013-10-16 00:00:00   \n",
       "50%              2013-10-24 18:26:00            2013-11-19 00:00:00   \n",
       "75%              2013-11-25 11:13:00            2013-12-25 00:00:00   \n",
       "max              2013-12-31 23:59:00            2015-03-27 00:00:00   \n",
       "\n",
       "                             srch_co  \n",
       "count                         142608  \n",
       "mean   2013-11-30 06:53:11.652701696  \n",
       "min              2013-09-02 00:00:00  \n",
       "25%              2013-10-18 00:00:00  \n",
       "50%              2013-11-22 00:00:00  \n",
       "75%              2013-12-28 00:00:00  \n",
       "max              2015-03-30 00:00:00  "
      ]
     },
     "execution_count": 18,
     "metadata": {},
     "output_type": "execute_result"
    }
   ],
   "source": [
    "df[['date_time','srch_ci','srch_co']].describe(datetime_is_numeric=True)"
   ]
  },
  {
   "cell_type": "markdown",
   "metadata": {},
   "source": [
    "**date_time:** all records are between january and december of 2013. It seems safe to assume that this feature stands for the date of the search in the booking platform."
   ]
  },
  {
   "cell_type": "markdown",
   "metadata": {},
   "source": [
    "**date_time** and **srch_co**: we assume that srch_ci indicates the date of check in and srch_co the date of checkout on the booking platform. It goest from September 2013 to March 2015.\n",
    "\n",
    "It can be used to generate an aditional feature to represent the number of nights for each reservation."
   ]
  },
  {
   "cell_type": "code",
   "execution_count": 19,
   "metadata": {},
   "outputs": [
    {
     "data": {
      "text/plain": [
       "0"
      ]
     },
     "execution_count": 19,
     "metadata": {},
     "output_type": "execute_result"
    }
   ],
   "source": [
    "len(df[df['srch_ci'] > df['srch_co']])\n",
    "\n",
    "#we can safely assume that srch_ci meands the date of check in and srch_co the date of checkout"
   ]
  },
  {
   "cell_type": "code",
   "execution_count": 20,
   "metadata": {},
   "outputs": [
    {
     "data": {
      "text/plain": [
       "0"
      ]
     },
     "execution_count": 20,
     "metadata": {},
     "output_type": "execute_result"
    }
   ],
   "source": [
    "len(df[df['srch_ci'] == df['srch_co']])"
   ]
  },
  {
   "cell_type": "markdown",
   "metadata": {},
   "source": [
    "**7. How are the categorical features distibuted?**"
   ]
  },
  {
   "cell_type": "code",
   "execution_count": 21,
   "metadata": {},
   "outputs": [
    {
     "data": {
      "text/html": [
       "<div>\n",
       "<style scoped>\n",
       "    .dataframe tbody tr th:only-of-type {\n",
       "        vertical-align: middle;\n",
       "    }\n",
       "\n",
       "    .dataframe tbody tr th {\n",
       "        vertical-align: top;\n",
       "    }\n",
       "\n",
       "    .dataframe thead th {\n",
       "        text-align: right;\n",
       "    }\n",
       "</style>\n",
       "<table border=\"1\" class=\"dataframe\">\n",
       "  <thead>\n",
       "    <tr style=\"text-align: right;\">\n",
       "      <th></th>\n",
       "      <th>hotel_cluster</th>\n",
       "      <th>hotel_continent</th>\n",
       "      <th>hotel_country</th>\n",
       "      <th>hotel_market</th>\n",
       "      <th>posa_continent</th>\n",
       "      <th>channel</th>\n",
       "      <th>site_name</th>\n",
       "      <th>srch_destination_id</th>\n",
       "      <th>srch_destination_type_id</th>\n",
       "      <th>user_id</th>\n",
       "      <th>user_location_city</th>\n",
       "      <th>user_location_country</th>\n",
       "      <th>user_location_region</th>\n",
       "      <th>month</th>\n",
       "      <th>year</th>\n",
       "    </tr>\n",
       "  </thead>\n",
       "  <tbody>\n",
       "    <tr>\n",
       "      <th>count</th>\n",
       "      <td>142608</td>\n",
       "      <td>142608</td>\n",
       "      <td>142608</td>\n",
       "      <td>142608</td>\n",
       "      <td>142608</td>\n",
       "      <td>142608</td>\n",
       "      <td>142608</td>\n",
       "      <td>142608</td>\n",
       "      <td>142608</td>\n",
       "      <td>142608</td>\n",
       "      <td>142608</td>\n",
       "      <td>142608</td>\n",
       "      <td>142608</td>\n",
       "      <td>142608</td>\n",
       "      <td>142608</td>\n",
       "    </tr>\n",
       "    <tr>\n",
       "      <th>unique</th>\n",
       "      <td>100</td>\n",
       "      <td>7</td>\n",
       "      <td>184</td>\n",
       "      <td>1920</td>\n",
       "      <td>5</td>\n",
       "      <td>11</td>\n",
       "      <td>34</td>\n",
       "      <td>11159</td>\n",
       "      <td>6</td>\n",
       "      <td>70189</td>\n",
       "      <td>10872</td>\n",
       "      <td>198</td>\n",
       "      <td>770</td>\n",
       "      <td>4</td>\n",
       "      <td>1</td>\n",
       "    </tr>\n",
       "    <tr>\n",
       "      <th>top</th>\n",
       "      <td>91</td>\n",
       "      <td>2</td>\n",
       "      <td>50</td>\n",
       "      <td>628</td>\n",
       "      <td>3</td>\n",
       "      <td>9</td>\n",
       "      <td>2</td>\n",
       "      <td>8250</td>\n",
       "      <td>1</td>\n",
       "      <td>191631</td>\n",
       "      <td>5703</td>\n",
       "      <td>66</td>\n",
       "      <td>174</td>\n",
       "      <td>9</td>\n",
       "      <td>2013</td>\n",
       "    </tr>\n",
       "    <tr>\n",
       "      <th>freq</th>\n",
       "      <td>5842</td>\n",
       "      <td>86210</td>\n",
       "      <td>75425</td>\n",
       "      <td>6571</td>\n",
       "      <td>112427</td>\n",
       "      <td>92320</td>\n",
       "      <td>91136</td>\n",
       "      <td>4856</td>\n",
       "      <td>74354</td>\n",
       "      <td>52</td>\n",
       "      <td>2624</td>\n",
       "      <td>74712</td>\n",
       "      <td>14985</td>\n",
       "      <td>40283</td>\n",
       "      <td>142608</td>\n",
       "    </tr>\n",
       "  </tbody>\n",
       "</table>\n",
       "</div>"
      ],
      "text/plain": [
       "        hotel_cluster  hotel_continent  hotel_country  hotel_market  \\\n",
       "count          142608           142608         142608        142608   \n",
       "unique            100                7            184          1920   \n",
       "top                91                2             50           628   \n",
       "freq             5842            86210          75425          6571   \n",
       "\n",
       "        posa_continent  channel  site_name  srch_destination_id  \\\n",
       "count           142608   142608     142608               142608   \n",
       "unique               5       11         34                11159   \n",
       "top                  3        9          2                 8250   \n",
       "freq            112427    92320      91136                 4856   \n",
       "\n",
       "        srch_destination_type_id  user_id  user_location_city  \\\n",
       "count                     142608   142608              142608   \n",
       "unique                         6    70189               10872   \n",
       "top                            1   191631                5703   \n",
       "freq                       74354       52                2624   \n",
       "\n",
       "        user_location_country  user_location_region   month    year  \n",
       "count                  142608                142608  142608  142608  \n",
       "unique                    198                   770       4       1  \n",
       "top                        66                   174       9    2013  \n",
       "freq                    74712                 14985   40283  142608  "
      ]
     },
     "execution_count": 21,
     "metadata": {},
     "output_type": "execute_result"
    }
   ],
   "source": [
    "df[['hotel_cluster','hotel_continent','hotel_country','hotel_market','posa_continent','channel',\n",
    " 'site_name','srch_destination_id','srch_destination_type_id','user_id','user_location_city','user_location_country','user_location_region'\n",
    " ,'month','year']].astype('object').describe()"
   ]
  },
  {
   "cell_type": "code",
   "execution_count": 22,
   "metadata": {},
   "outputs": [
    {
     "data": {
      "text/plain": [
       "0         True\n",
       "1         True\n",
       "2         True\n",
       "3         True\n",
       "4         True\n",
       "          ... \n",
       "142603    True\n",
       "142604    True\n",
       "142605    True\n",
       "142606    True\n",
       "142607    True\n",
       "Length: 142608, dtype: bool"
      ]
     },
     "execution_count": 22,
     "metadata": {},
     "output_type": "execute_result"
    }
   ],
   "source": [
    "df['month'] == pd.DatetimeIndex(df['date_time']).month\n",
    "\n",
    "#we can assume that year and month are based on the datetime feature"
   ]
  },
  {
   "cell_type": "code",
   "execution_count": 23,
   "metadata": {},
   "outputs": [
    {
     "data": {
      "text/html": [
       "<div>\n",
       "<style scoped>\n",
       "    .dataframe tbody tr th:only-of-type {\n",
       "        vertical-align: middle;\n",
       "    }\n",
       "\n",
       "    .dataframe tbody tr th {\n",
       "        vertical-align: top;\n",
       "    }\n",
       "\n",
       "    .dataframe thead th {\n",
       "        text-align: right;\n",
       "    }\n",
       "</style>\n",
       "<table border=\"1\" class=\"dataframe\">\n",
       "  <thead>\n",
       "    <tr style=\"text-align: right;\">\n",
       "      <th></th>\n",
       "      <th>is_booking</th>\n",
       "      <th>is_mobile</th>\n",
       "      <th>is_package</th>\n",
       "    </tr>\n",
       "  </thead>\n",
       "  <tbody>\n",
       "    <tr>\n",
       "      <th>count</th>\n",
       "      <td>142608.0</td>\n",
       "      <td>142608.000000</td>\n",
       "      <td>142608.000000</td>\n",
       "    </tr>\n",
       "    <tr>\n",
       "      <th>mean</th>\n",
       "      <td>1.0</td>\n",
       "      <td>0.092014</td>\n",
       "      <td>0.128492</td>\n",
       "    </tr>\n",
       "    <tr>\n",
       "      <th>std</th>\n",
       "      <td>0.0</td>\n",
       "      <td>0.289047</td>\n",
       "      <td>0.334638</td>\n",
       "    </tr>\n",
       "    <tr>\n",
       "      <th>min</th>\n",
       "      <td>1.0</td>\n",
       "      <td>0.000000</td>\n",
       "      <td>0.000000</td>\n",
       "    </tr>\n",
       "    <tr>\n",
       "      <th>25%</th>\n",
       "      <td>1.0</td>\n",
       "      <td>0.000000</td>\n",
       "      <td>0.000000</td>\n",
       "    </tr>\n",
       "    <tr>\n",
       "      <th>50%</th>\n",
       "      <td>1.0</td>\n",
       "      <td>0.000000</td>\n",
       "      <td>0.000000</td>\n",
       "    </tr>\n",
       "    <tr>\n",
       "      <th>75%</th>\n",
       "      <td>1.0</td>\n",
       "      <td>0.000000</td>\n",
       "      <td>0.000000</td>\n",
       "    </tr>\n",
       "    <tr>\n",
       "      <th>max</th>\n",
       "      <td>1.0</td>\n",
       "      <td>1.000000</td>\n",
       "      <td>1.000000</td>\n",
       "    </tr>\n",
       "  </tbody>\n",
       "</table>\n",
       "</div>"
      ],
      "text/plain": [
       "       is_booking      is_mobile     is_package\n",
       "count    142608.0  142608.000000  142608.000000\n",
       "mean          1.0       0.092014       0.128492\n",
       "std           0.0       0.289047       0.334638\n",
       "min           1.0       0.000000       0.000000\n",
       "25%           1.0       0.000000       0.000000\n",
       "50%           1.0       0.000000       0.000000\n",
       "75%           1.0       0.000000       0.000000\n",
       "max           1.0       1.000000       1.000000"
      ]
     },
     "execution_count": 23,
     "metadata": {},
     "output_type": "execute_result"
    }
   ],
   "source": [
    "df[['is_booking','is_mobile','is_package']].describe()\n",
    "\n",
    "#these flags are essentially categorical features but are better analyzed as numerical "
   ]
  },
  {
   "cell_type": "markdown",
   "metadata": {},
   "source": [
    "Hereunder we try to group and understand the categorical features in a way that makes sense regarding the context of a hotel booking platform:\n",
    "\n",
    "First, we group the features that point to the hotels attributes:\n",
    "\n",
    "- **hotel_cluster:** 100 hotel clusters. It seems to be some sort of groupping based on user's preferences or location\n",
    "- **hotel_continent:** 7 hotel continents\n",
    "- **hotel_country:** 184 hotel countries\n",
    "- **hotel_market:** 1920 hotel markets\n",
    "\n",
    "Next, the following attributes seems related with the marketing channels:\n",
    "- **channel:** 11 channels. It may be the marketing channel through which the user accessed or got to know the platform\n",
    "- **posa_continents:** 5 continents, but it is not clear what this feature refers to, possibly related to the sites location\n",
    "- **site_name**: 34 site names. We assume it indicates the local website address of the platform\n",
    "\n",
    "Then, there are some features regarding the destinations:\n",
    "\n",
    "- **srch_destination_id:** 11159 destinations\n",
    "- **srch_destination_type_id:** 6 types of destinations\n",
    "\n",
    "Users attributes are easily identifiable:\n",
    "\n",
    "- **user_id:** 70189 users\n",
    "- **user_location_city:** 10872 cities. We assume this and other users' location features indicates where the user lives\n",
    "- **user_location_region:** 770 user's location's regions\n",
    "- **user_location_country:** 198 user's countries\n",
    "\n",
    "There are categorical features related to timeseries which are extracts from 'date_time':\n",
    "- **month**: 4 months\n",
    "- **year**: 1 year\n",
    "\n",
    "And finally features related with the search in the plaform, which give us some insights about the data:\n",
    "- **is_booking:** 100% of records are booking events\n",
    "- **is_mobile:** around 9% of booking events are from mobile devices\n",
    "- **is_package:** around 13% of booking events are part of travel packages"
   ]
  },
  {
   "cell_type": "markdown",
   "metadata": {},
   "source": [
    "### **8. Assumptions about the dataset** ###"
   ]
  },
  {
   "cell_type": "markdown",
   "metadata": {},
   "source": [
    "**Cleaning**\n",
    "\n",
    "- The first feature which does not have a label is an unique id for each row. It was dropped from the dataset since it has no usage in an analytics solution and the unique row index can be used instead to identify each row.\n",
    "- **cnt**: looking at the distribution we see that almost 99% of the records have value 1 with the rest 1% containg outliers. Although replacing the outliers with 1 could be a strategy to be applied, it would leave us with a feature without a clear meaning where all the values are the same. With that in mind, it makes sense to drop this feature.\n",
    "- **month** and **year**: date_time can be used instead of those features, so they can be removed given the redundancy\n",
    "- **is_booking**: since the all the records are booking events we can assume this feature does not have any usage. In a different context we would keep it in order to compare booking and non-booking events, but for the sake of simplicity of this solution we can remove it.\n",
    "\n",
    "**Adding features**\n",
    "\n",
    "- A feature **duration_stay** can be added to indicate the number of nights on each booking\n",
    "- Another feature **months_adv** can be added to indicate with how many months in advance the users book hotels\n",
    "\n",
    "**Missing values**\n",
    "\n",
    "- **orig_destination_distance**: in order to proceed with the analysis we will replace the null values by the mean value of the feature and evaluate the impact before proceeding\n",
    "\n",
    "\n",
    "**Correlating**\n",
    "\n",
    "- In order to move on with the analysis we want to do some assumptions regarding the correlation between the features\n",
    "- To test these assumptions and find the correlations we need to ask some questions to guide the analysis. To propose these questions we want first to consider what would be the target for a booking platform and that would be the insights the could generate more results. With this in mind and based on the data available we propose to focus on three key themes:\n",
    "    1. How is the popularity of the platform by location features and overtime (measured by number of bookings)?\n",
    "    4. When do users travel?\n",
    "    3. How long in advance users book their stays? How does it correlate with other features?\n",
    "    2. How is the performance of the different sites? \n",
    "    \n",
    "- Besides those key themes we are also going to explore the insights that might come up along the exploration analysis."
   ]
  },
  {
   "cell_type": "markdown",
   "metadata": {},
   "source": [
    "## Data Preparation ##"
   ]
  },
  {
   "cell_type": "markdown",
   "metadata": {},
   "source": [
    "### Cleaning, completing and adding features ###"
   ]
  },
  {
   "cell_type": "code",
   "execution_count": 24,
   "metadata": {},
   "outputs": [],
   "source": [
    "# drop 'cnt','month','year'\n",
    "df.drop(['cnt','month','year','is_booking'], axis='columns', inplace=True)\n",
    "\n",
    "# drop first column\n",
    "df.drop(columns=df.columns[0], axis=1, inplace=True)"
   ]
  },
  {
   "cell_type": "code",
   "execution_count": 25,
   "metadata": {},
   "outputs": [],
   "source": [
    "#create feature for duration of stay\n",
    "df['days_stay'] = df.srch_co - df.srch_ci\n",
    "\n",
    "df['days_stay'] = df['days_stay'].dt.days"
   ]
  },
  {
   "cell_type": "code",
   "execution_count": 26,
   "metadata": {},
   "outputs": [],
   "source": [
    "#create feature for how many days in advance the booking was done\n",
    "df['days_in_adv'] = df.srch_ci.values.astype('datetime64[D]') - df.date_time.values.astype('datetime64[D]')\n",
    "\n",
    "df['days_in_adv'] = df['days_in_adv'].dt.days"
   ]
  },
  {
   "cell_type": "code",
   "execution_count": 27,
   "metadata": {},
   "outputs": [
    {
     "data": {
      "text/plain": [
       "array(['channel', 'date_time', 'hotel_cluster', 'hotel_continent',\n",
       "       'hotel_country', 'hotel_market', 'is_mobile', 'is_package',\n",
       "       'orig_destination_distance', 'posa_continent', 'site_name',\n",
       "       'srch_adults_cnt', 'srch_children_cnt', 'srch_ci', 'srch_co',\n",
       "       'srch_destination_id', 'srch_destination_type_id', 'srch_rm_cnt',\n",
       "       'user_id', 'user_location_city', 'user_location_country',\n",
       "       'user_location_region', 'days_stay', 'days_in_adv'], dtype=object)"
      ]
     },
     "execution_count": 27,
     "metadata": {},
     "output_type": "execute_result"
    }
   ],
   "source": [
    "#rearrange columns for better readability and grouping closely related features\n",
    "df.columns.values"
   ]
  },
  {
   "cell_type": "code",
   "execution_count": 28,
   "metadata": {},
   "outputs": [],
   "source": [
    "df = df[['date_time', \n",
    "         'hotel_cluster', 'hotel_continent', 'hotel_country','hotel_market', \n",
    "         'is_mobile', 'is_package','orig_destination_distance', \n",
    "         'channel','posa_continent', 'site_name',\n",
    "         'srch_adults_cnt', 'srch_children_cnt','srch_destination_id', 'srch_destination_type_id', 'srch_rm_cnt','srch_ci', 'srch_co','days_stay', 'days_in_adv', \n",
    "         'user_id', 'user_location_city', 'user_location_country','user_location_region']]"
   ]
  },
  {
   "cell_type": "code",
   "execution_count": 29,
   "metadata": {},
   "outputs": [
    {
     "data": {
      "text/plain": [
       "<AxesSubplot:>"
      ]
     },
     "execution_count": 29,
     "metadata": {},
     "output_type": "execute_result"
    },
    {
     "data": {
      "image/png": "[encoded data removed]",
      "text/plain": [
       "<Figure size 432x432 with 1 Axes>"
      ]
     },
     "metadata": {
      "needs_background": "light"
     },
     "output_type": "display_data"
    }
   ],
   "source": [
    "#First we try to replace the missing valeus by the average and see the impact on the distribution\n",
    "\n",
    "#Histogram before replacing the NA values:\n",
    "\n",
    "df['orig_destination_distance'].hist(figsize=(6,6), bins = 20)"
   ]
  },
  {
   "cell_type": "code",
   "execution_count": 30,
   "metadata": {},
   "outputs": [
    {
     "data": {
      "text/plain": [
       "<AxesSubplot:>"
      ]
     },
     "execution_count": 30,
     "metadata": {},
     "output_type": "execute_result"
    },
    {
     "data": {
      "image/png": "[encoded data removed]",
      "text/plain": [
       "<Figure size 432x288 with 1 Axes>"
      ]
     },
     "metadata": {
      "needs_background": "light"
     },
     "output_type": "display_data"
    }
   ],
   "source": [
    "#Histogram after replacing the NA value:\n",
    "\n",
    "df.boxplot(column='orig_destination_distance')"
   ]
  },
  {
   "cell_type": "code",
   "execution_count": 31,
   "metadata": {},
   "outputs": [
    {
     "data": {
      "text/plain": [
       "<AxesSubplot:>"
      ]
     },
     "execution_count": 31,
     "metadata": {},
     "output_type": "execute_result"
    },
    {
     "data": {
      "image/png": "[encoded data removed]",
      "text/plain": [
       "<Figure size 432x432 with 1 Axes>"
      ]
     },
     "metadata": {
      "needs_background": "light"
     },
     "output_type": "display_data"
    }
   ],
   "source": [
    "#fill NA values with values from a distribution based on the distribution of existing non null values\n",
    "\n",
    "isnull = df['orig_destination_distance'].isnull() #find nulls\n",
    "sample = df['orig_destination_distance'].dropna().sample(n=isnull.sum(), replace=True).values #sample from non-nulls the amount of nulls\n",
    "df.loc[isnull, 'orig_destination_distance'] = sample #replace null values with values from the sample\n",
    "\n",
    "df['orig_destination_distance'].hist(figsize=(6,6), bins = 20)\n",
    "\n",
    "df.boxplot(column='orig_destination_distance')"
   ]
  },
  {
   "cell_type": "code",
   "execution_count": 32,
   "metadata": {},
   "outputs": [
    {
     "data": {
      "text/plain": [
       "<AxesSubplot:>"
      ]
     },
     "execution_count": 32,
     "metadata": {},
     "output_type": "execute_result"
    },
    {
     "data": {
      "image/png": "[encoded data removed]",
      "text/plain": [
       "<Figure size 432x288 with 1 Axes>"
      ]
     },
     "metadata": {
      "needs_background": "light"
     },
     "output_type": "display_data"
    }
   ],
   "source": [
    "df.boxplot(column='orig_destination_distance')"
   ]
  },
  {
   "cell_type": "code",
   "execution_count": 33,
   "metadata": {},
   "outputs": [],
   "source": [
    "#export cleaned data frame to a csv file for the next step of the analysis\n",
    "\n",
    "df.to_csv(\"clean_data.csv\",index=False)"
   ]
  }
 ],
 "metadata": {
  "kernelspec": {
   "display_name": "Python 3",
   "language": "python",
   "name": "python3"
  },
  "language_info": {
   "codemirror_mode": {
    "name": "ipython",
    "version": 3
   },
   "file_extension": ".py",
   "mimetype": "text/x-python",
   "name": "python",
   "nbconvert_exporter": "python",
   "pygments_lexer": "ipython3",
   "version": "3.8.5"
  }
 },
 "nbformat": 4,
 "nbformat_minor": 4
}
